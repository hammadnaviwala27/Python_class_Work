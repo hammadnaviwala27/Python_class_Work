{
 "cells": [
  {
   "cell_type": "code",
   "execution_count": null,
   "metadata": {},
   "outputs": [],
   "source": [
    "var1=100\n",
    "\n",
    "if var1:\n",
    "    \n",
    "    print(\"1 - Got a true expression value\")\n",
    "    print(var1)\n",
    "    \n",
    "else:\n",
    "    \n",
    "    print(\"1 - Got a false expression value\")\n",
    "    print(var1)\n",
    "    "
   ]
  },
  {
   "cell_type": "code",
   "execution_count": null,
   "metadata": {},
   "outputs": [],
   "source": [
    "name = input(\"enter your name : \").upper()\n",
    "if name == \"HAMMAD\" : \n",
    "    print(\"your name is \" + name)\n",
    "else:\n",
    "    print(\"No\")"
   ]
  },
  {
   "cell_type": "code",
   "execution_count": null,
   "metadata": {},
   "outputs": [],
   "source": [
    "weight=float(input(\"your laguage weight : \"))\n",
    "if weight >50 :\n",
    "    print(\"you have to pay 25$ more for this heavy laguage\")\n",
    "    \n",
    "print(\"Thankyou for your business\")"
   ]
  },
  {
   "cell_type": "code",
   "execution_count": null,
   "metadata": {},
   "outputs": [],
   "source": [
    "temperature =float(input(\"Enter today's Temperature : \"))\n",
    "if temperature > 25 :\n",
    "        print(\"I'll wear shorts today\")\n",
    "else :\n",
    "        print(\"I'll wear Pants Today\")\n",
    "\n",
    "        "
   ]
  },
  {
   "cell_type": "code",
   "execution_count": null,
   "metadata": {},
   "outputs": [],
   "source": [
    "Marks = float(input(\"How Many Marks you Obtain out of 100: \"))\n",
    "if Marks >100 :\n",
    "    print(\"Wrong Number\")\n",
    "elif Marks >= 90 :\n",
    "    print(\"Grade A\")\n",
    "elif Marks >= 80 :\n",
    "    print(\"Grade B\")\n",
    "elif Marks >= 70 :\n",
    "    print(\"Grade C\")\n",
    "elif Marks >= 60 :\n",
    "    print(\"Grade D\")\n",
    "elif Marks >= 50 :\n",
    "    print(\"Grade E\")\n",
    "elif Marks >= 40 :\n",
    "    print(\"Grade F and you are Fail\")\n",
    "elif Marks >= 30 :\n",
    "    print(\"Grade G and you are Fail\")\n",
    "elif Marks >= 20 :\n",
    "    print(\"Grade H and you are Fail\")\n",
    "elif Marks >= 10 :\n",
    "    print(\"Grade I and you are Fail\")\n",
    "elif Marks >= 0 :\n",
    "    print(\"Grade J and you are Fail\")\n",
    "print(write value in positive number)\n",
    "    \n"
   ]
  },
  {
   "cell_type": "code",
   "execution_count": null,
   "metadata": {},
   "outputs": [],
   "source": [
    "English = float(input(\"How Many Marks you Obtain in English :\"))\n",
    "Economics = float(input(\"How Many Marks you Obtain in Economics :\"))\n",
    "Urdu = float(input(\"How Many Marks you Obtain in Urdu : \"))\n",
    "Computer = float(input(\"How Many Marks you Obtain in Computer :\"))\n",
    "Maths = float(input(\"How Many Marks you Obtain in Maths : \"))\n",
    "                   \n",
    "TotalMarksObtained = English + Economics + Urdu + Computer + Maths\n",
    "TMO = \"You have obtained : \"+str(TotalMarksObtained)+\"Marks\"\n",
    "print(TMO)\n",
    "\n",
    "percentage = round(TotalMarksObtained*100/500)\n",
    "Per = \"You have scored : \" +str(percentage)+ \" % \"\n",
    "print(Per)\n",
    "\n",
    "if percentage >100 :\n",
    "    print(\"Wrong Number\")\n",
    "elif percentage >= 90 :\n",
    "    Grade=\"A+\"\n",
    "elif percentage >= 80 :\n",
    "    Grade=\"A\"\n",
    "elif percentage >= 70 :\n",
    "    Grade=\"B\"\n",
    "elif percentage >= 60 :\n",
    "    Grade=\"C\"\n",
    "elif percentage >= 50 :\n",
    "    Grade=\"D\"\n",
    "\n",
    "else : \n",
    "    Grade=\"E\"\n",
    "    print(\"You Are Fail\")\n",
    "    \n",
    "\n",
    "print (\"\\nYour percentage is= \" + str(percentage) + \".\\nTotalMarksObtained= \" + str(TotalMarksObtained) + \"\\nYour grade is = \" + Grade)    \n",
    "    \n",
    "     \n",
    "\n",
    "      "
   ]
  },
  {
   "cell_type": "code",
   "execution_count": null,
   "metadata": {},
   "outputs": [],
   "source": []
  }
 ],
 "metadata": {
  "kernelspec": {
   "display_name": "Python 3",
   "language": "python",
   "name": "python3"
  },
  "language_info": {
   "codemirror_mode": {
    "name": "ipython",
    "version": 3
   },
   "file_extension": ".py",
   "mimetype": "text/x-python",
   "name": "python",
   "nbconvert_exporter": "python",
   "pygments_lexer": "ipython3",
   "version": "3.7.1"
  }
 },
 "nbformat": 4,
 "nbformat_minor": 2
}
