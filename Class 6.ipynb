{
 "cells": [
  {
   "cell_type": "code",
   "execution_count": null,
   "metadata": {},
   "outputs": [],
   "source": [
    "a=10\n",
    "b = 20\n",
    "if a==10:\n",
    "    if b==20:\n",
    "        print(\"All is Well\")"
   ]
  },
  {
   "cell_type": "code",
   "execution_count": null,
   "metadata": {},
   "outputs": [],
   "source": [
    "a=10\n",
    "if a>10:\n",
    "    print(\"\")\n",
    "else:print(\"\")\n",
    "    "
   ]
  },
  {
   "cell_type": "code",
   "execution_count": null,
   "metadata": {},
   "outputs": [],
   "source": [
    "ijazat=input(\"Ask from your wife.\\nIs she allow you to go stadium? : [YES/NO]\").upper()\n",
    "tickets=input(\"Do you have a ticket : [YES/NO]\").upper()\n",
    "age = int(input(\"Enter your age : \"))\n",
    "\n",
    "if age>=18 and ijazat ==\"YES\" and tickets ==\"YES\" :\n",
    "    print(\"\\nYou are allowed to go to the Stadium \")\n",
    "else:\n",
    "    print(\"\\nGo to Hell.\\nGhar beth kr Match dekh.\\nLOL..\")"
   ]
  },
  {
   "cell_type": "code",
   "execution_count": 13,
   "metadata": {},
   "outputs": [
    {
     "name": "stdout",
     "output_type": "stream",
     "text": [
      "Enter your age : 18\n",
      "Do you have Cnic No.?[YES/NO]no\n",
      "Do you belongs to Karachi ?[YES/NO]yes\n",
      "you can't Vote\n"
     ]
    }
   ],
   "source": [
    "age = int(input(\"Enter your age : \"))\n",
    "remainingAge=18-age\n",
    "if age>=18 :\n",
    "    Cnic=input(\"Do you have Cnic No.?[YES/NO]\").upper()\n",
    "    City=input(\"Do you belongs to Karachi ?[YES/NO]\").upper()\n",
    "    if Cnic==\"YES\" and\n",
    "    City==\"YES\":\n",
    "        print(\"You are allowed to cast Vote\\n\")\n",
    "    else :\n",
    "        print(\"you can't Vote\")\n",
    "else:\n",
    "    print(\"You are under age.\")\n",
    "    print(\"you will be allowed after \" +str(remainingAge) + \" Years\")"
   ]
  },
  {
   "cell_type": "code",
   "execution_count": 14,
   "metadata": {},
   "outputs": [
    {
     "ename": "NameError",
     "evalue": "name 'sqrt' is not defined",
     "output_type": "error",
     "traceback": [
      "\u001b[1;31m---------------------------------------------------------------------------\u001b[0m",
      "\u001b[1;31mNameError\u001b[0m                                 Traceback (most recent call last)",
      "\u001b[1;32m<ipython-input-14-71452ce147c7>\u001b[0m in \u001b[0;36m<module>\u001b[1;34m\u001b[0m\n\u001b[1;32m----> 1\u001b[1;33m \u001b[0mprint\u001b[0m\u001b[1;33m(\u001b[0m\u001b[0msqrt\u001b[0m\u001b[1;33m(\u001b[0m\u001b[1;36m9\u001b[0m\u001b[1;33m)\u001b[0m\u001b[1;33m)\u001b[0m\u001b[1;33m\u001b[0m\u001b[1;33m\u001b[0m\u001b[0m\n\u001b[0m",
      "\u001b[1;31mNameError\u001b[0m: name 'sqrt' is not defined"
     ]
    }
   ],
   "source": []
  },
  {
   "cell_type": "code",
   "execution_count": null,
   "metadata": {},
   "outputs": [],
   "source": []
  }
 ],
 "metadata": {
  "kernelspec": {
   "display_name": "Python 3",
   "language": "python",
   "name": "python3"
  },
  "language_info": {
   "codemirror_mode": {
    "name": "ipython",
    "version": 3
   },
   "file_extension": ".py",
   "mimetype": "text/x-python",
   "name": "python",
   "nbconvert_exporter": "python",
   "pygments_lexer": "ipython3",
   "version": "3.7.1"
  }
 },
 "nbformat": 4,
 "nbformat_minor": 2
}
